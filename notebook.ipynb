{
 "cells": [
  {
   "cell_type": "markdown",
   "metadata": {},
   "source": [
    "# Database | Mini Project 2"
   ]
  },
  {
   "cell_type": "markdown",
   "metadata": {},
   "source": [
    "### Imports"
   ]
  },
  {
   "cell_type": "code",
   "execution_count": 27,
   "metadata": {},
   "outputs": [],
   "source": [
    "# utillities\n",
    "import pandas as pd\n",
    "import json\n",
    "from timeit import timeit\n",
    "from pprint import pprint\n",
    "\n",
    "# database drivers\n",
    "from neo4j import GraphDatabase\n",
    "from pymongo import MongoClient"
   ]
  },
  {
   "cell_type": "markdown",
   "metadata": {},
   "source": [
    "## Neo4j"
   ]
  },
  {
   "cell_type": "code",
   "execution_count": null,
   "metadata": {},
   "outputs": [],
   "source": [
    "data = pd.read_csv(\"C:/Users/Hupra/Downloads/data (2).csv\")\n",
    "\n",
    "r = []\n",
    "\n",
    "for idx, m in data.iterrows():\n",
    "    d = m.to_dict()\n",
    "    d[\"Genre\"] = list(map(lambda s: s.strip(), m[\"Genre\"].split(\",\")))\n",
    "    d[\"Actors\"] = list(map(lambda s: s.strip(), m[\"Actors\"].split(\",\")))\n",
    "    d[\"Revenue\"] = max(0., d[\"Revenue\"])\n",
    "    d[\"Metascore\"] = max(0., d[\"Metascore\"])\n",
    "    r.append(d)\n",
    "    \n",
    "with open(r'C:\\Users\\Hupra\\Downloads\\data.json', 'w') as f:\n",
    "    json.dump(r, f)"
   ]
  },
  {
   "cell_type": "code",
   "execution_count": null,
   "metadata": {},
   "outputs": [],
   "source": [
    "driver = GraphDatabase.driver(\"bolt://localhost:7687\", auth=(\"neo4j\", \"1234\"))\n",
    "\n",
    "def func1():\n",
    "    with driver.session() as session:\n",
    "        m ='''MATCH(y:Year)-[r:RELEASED]-(m:Movie)-[a:ACTED]-(p:Person)\n",
    "        WHERE y.year = \"2006\"\n",
    "        return p.name'''\n",
    "        r = session.run(m)\n",
    "\n",
    "def func2():\n",
    "    with driver.session() as session:\n",
    "        m ='''MATCH (d:Person)-[:DIRECTED]-(:Movie)-[:ACTED]-(a:Person) \n",
    "        WHERE d.name = \"David Yates\"\n",
    "        RETURN count(distinct a)'''\n",
    "        r = session.run(m)\n",
    "\n",
    "def func3():\n",
    "    with driver.session() as session:\n",
    "        m ='''MATCH (:Person {name:\"Christian Bale\"})-[:ACTED]-(:Movie)-[:GENRE]-(g:Genre) \n",
    "        RETURN count(g), g.name'''\n",
    "        r = session.run(m)\n",
    "\n",
    "print(\"func1\", timeit(func1, number=5000))\n",
    "print(\"func2\", timeit(func2, number=5000))\n",
    "print(\"func3\", timeit(func3, number=5000))\n",
    "\n",
    "driver.close()"
   ]
  },
  {
   "cell_type": "markdown",
   "metadata": {},
   "source": [
    "## Mongo DB"
   ]
  },
  {
   "cell_type": "code",
   "execution_count": 5,
   "metadata": {},
   "outputs": [
    {
     "output_type": "stream",
     "name": "stdout",
     "text": "['admin', 'config', 'init', 'local', 'mini_project', 'test', 'twitter']\n"
    }
   ],
   "source": [
    "mongo_client = MongoClient(\"mongodb://localhost:27017/\")\n",
    "mongo_db = mongo_client[\"mini_project\"]\n",
    "mongo_col = mongo_db[\"main\"]\n",
    "print(mongo_client.list_database_names())"
   ]
  },
  {
   "cell_type": "markdown",
   "metadata": {},
   "source": [
    "* **Get name of persons who acted in a movie in 2006**  \n",
    "* **Get amount of persons that acted in a movie directed by David Yates**  \n",
    "* **Get genres Christian Bale appeared in**  "
   ]
  },
  {
   "cell_type": "code",
   "execution_count": 32,
   "metadata": {},
   "outputs": [
    {
     "output_type": "stream",
     "name": "stdout",
     "text": "161\n"
    }
   ],
   "source": [
    "response = mongo_col.find({ 'Year':2006 }, { 'Actors':1, '_id':0 })\n",
    "\n",
    "actors = set()\n",
    "\n",
    "for document in response:\n",
    "        actors.update(document['Actors'])\n",
    "\n",
    "pprint(len(actors))"
   ]
  },
  {
   "cell_type": "code",
   "execution_count": null,
   "metadata": {},
   "outputs": [],
   "source": [
    "response = mongo_col.find({ 'Director':'David Yates' }, { 'Actors':1, '_id':0 })\n",
    "\n",
    "for document in response:\n",
    "        print(document)"
   ]
  },
  {
   "cell_type": "code",
   "execution_count": null,
   "metadata": {},
   "outputs": [],
   "source": [
    "def mongo_query_1():\n",
    "    actors = set()\n",
    "    response = mongo_col.find({ 'Year':2006 }, { 'Actors':1, '_id':0 })\n",
    "\n",
    "    for document in response:\n",
    "            actors.update(document['Actors'])\n",
    "\n",
    "    return actors\n",
    "\n",
    "\n",
    "def mongo_query_2():\n",
    "    pass\n",
    "\n",
    "\n",
    "def mongo_query_3():\n",
    "    pass\n",
    "\n",
    "\n",
    "print(\"mongo query 1\", timeit(mongo_query_1, number=5000))\n",
    "print(\"mongo query 2\", timeit(mongo_query_2, number=5000))\n",
    "print(\"mongo query 3\", timeit(mongo_query_3, number=5000))"
   ]
  }
 ],
 "metadata": {
  "language_info": {
   "codemirror_mode": {
    "name": "ipython",
    "version": 3
   },
   "file_extension": ".py",
   "mimetype": "text/x-python",
   "name": "python",
   "nbconvert_exporter": "python",
   "pygments_lexer": "ipython3",
   "version": "3.7.4-final"
  },
  "orig_nbformat": 2,
  "kernelspec": {
   "name": "python3",
   "display_name": "Python 3"
  }
 },
 "nbformat": 4,
 "nbformat_minor": 2
}