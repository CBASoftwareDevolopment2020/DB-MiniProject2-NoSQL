{
 "cells": [
  {
   "cell_type": "markdown",
   "metadata": {},
   "source": [
    "# Database | Mini Project 2"
   ]
  },
  {
   "cell_type": "markdown",
   "metadata": {},
   "source": [
    "### Imports"
   ]
  },
  {
   "cell_type": "code",
   "execution_count": 1,
   "metadata": {},
   "outputs": [],
   "source": [
    "# utillities\n",
    "import pandas as pd\n",
    "import json\n",
    "from timeit import timeit\n",
    "from pprint import pprint\n",
    "\n",
    "# database drivers\n",
    "from neo4j import GraphDatabase\n",
    "from pymongo import MongoClient"
   ]
  },
  {
   "cell_type": "markdown",
   "metadata": {},
   "source": [
    "## Neo4j"
   ]
  },
  {
   "cell_type": "markdown",
   "metadata": {},
   "source": [
    "### Get name of persons who acted in a movie in 2006"
   ]
  },
  {
   "cell_type": "code",
   "execution_count": 2,
   "metadata": {},
   "outputs": [],
   "source": [
    "def neo4j_query_1():\n",
    "    with driver.session() as session:\n",
    "        m ='''MATCH(y:Year)-[r:RELEASED]-(m:Movie)-[a:ACTED]-(p:Person)\n",
    "        WHERE y.year = \"2006\"\n",
    "        return p.name'''\n",
    "        r = session.run(m)"
   ]
  },
  {
   "cell_type": "markdown",
   "metadata": {},
   "source": [
    "### Get amount of persons that acted in a movie directed by David Yates"
   ]
  },
  {
   "cell_type": "code",
   "execution_count": 3,
   "metadata": {},
   "outputs": [],
   "source": [
    "def neo4j_query_2():\n",
    "    with driver.session() as session:\n",
    "        m ='''MATCH (d:Person)-[:DIRECTED]-(:Movie)-[:ACTED]-(a:Person) \n",
    "        WHERE d.name = \"David Yates\"\n",
    "        RETURN count(distinct a)'''\n",
    "        r = session.run(m)"
   ]
  },
  {
   "cell_type": "markdown",
   "metadata": {},
   "source": [
    "### Get genres Christian Bale appeared in"
   ]
  },
  {
   "cell_type": "code",
   "execution_count": 4,
   "metadata": {},
   "outputs": [],
   "source": [
    "def neo4j_query_3():\n",
    "    with driver.session() as session:\n",
    "        m ='''MATCH (:Person {name:\"Christian Bale\"})-[:ACTED]-(:Movie)-[:GENRE]-(g:Genre) \n",
    "        RETURN count(g), g.name'''\n",
    "        r = session.run(m)"
   ]
  },
  {
   "cell_type": "markdown",
   "metadata": {},
   "source": [
    "### Performance Time"
   ]
  },
  {
   "cell_type": "code",
   "execution_count": 5,
   "metadata": {},
   "outputs": [
    {
     "output_type": "stream",
     "name": "stdout",
     "text": "neo4j query 1: 19.043925968000053\nneo4j query 2: 14.960240066999972\nneo4j query 3: 13.12418252200007\n"
    }
   ],
   "source": [
    "driver = GraphDatabase.driver(\"bolt://localhost:7687\", auth=(\"neo4j\", \"1234\"))\n",
    "\n",
    "print(\"neo4j query 1:\", timeit(neo4j_query_1, number=5000))\n",
    "print(\"neo4j query 2:\", timeit(neo4j_query_2, number=5000))\n",
    "print(\"neo4j query 3:\", timeit(neo4j_query_3, number=5000))\n",
    "\n",
    "driver.close()"
   ]
  },
  {
   "cell_type": "markdown",
   "metadata": {},
   "source": [
    "## Mongo DB"
   ]
  },
  {
   "cell_type": "markdown",
   "metadata": {},
   "source": [
    "### Get name of persons who acted in a movie in 2006"
   ]
  },
  {
   "cell_type": "code",
   "execution_count": 6,
   "metadata": {},
   "outputs": [],
   "source": [
    "def mongo_query_1():\n",
    "    response = mongo_col.aggregate([\n",
    "        { '$match': { 'Year': 2006 } },\n",
    "        { '$unwind': '$Actors' },\n",
    "        { '$group': { '_id': None, 'res': { '$addToSet': '$Actors' } } }\n",
    "    ])\n",
    "\n",
    "    return response.next()['res']"
   ]
  },
  {
   "cell_type": "markdown",
   "metadata": {},
   "source": [
    "### Get amount of persons that acted in a movie directed by David Yates"
   ]
  },
  {
   "cell_type": "code",
   "execution_count": 7,
   "metadata": {},
   "outputs": [],
   "source": [
    "def mongo_query_2():\n",
    "    response = mongo_col.aggregate([\n",
    "        { '$match': { 'Director': 'David Yates' } },\n",
    "        { '$unwind': '$Actors' },\n",
    "        { '$group': { '_id': None, 'res': { '$addToSet': '$Actors' } } },\n",
    "        { '$project': { 'res': { '$size': '$res' } } }\n",
    "    ]);\n",
    "\n",
    "    return response.next()['res']"
   ]
  },
  {
   "cell_type": "markdown",
   "metadata": {},
   "source": [
    "### Get genres Christian Bale appeared in"
   ]
  },
  {
   "cell_type": "code",
   "execution_count": 8,
   "metadata": {},
   "outputs": [],
   "source": [
    "def mongo_query_3():\n",
    "    response = mongo_col.aggregate([\n",
    "        { '$match': { 'Actors': { '$elemMatch': { '$eq': 'Christian Bale' } } } },\n",
    "        { '$unwind': '$Genre' },\n",
    "        { '$group': { '_id': None, 'res': { '$addToSet': '$Genre' } } }\n",
    "    ]);\n",
    "\n",
    "    return response.next()['res']"
   ]
  },
  {
   "cell_type": "markdown",
   "metadata": {},
   "source": [
    "### Performance Time"
   ]
  },
  {
   "cell_type": "code",
   "execution_count": 9,
   "metadata": {},
   "outputs": [
    {
     "output_type": "stream",
     "name": "stdout",
     "text": "mongo query 1: 12.316579582000031\nmongo query 2: 10.831449104000058\nmongo query 3: 11.603583000000071\n"
    }
   ],
   "source": [
    "mongo_client = MongoClient(\"mongodb://localhost:27017/\")\n",
    "mongo_db = mongo_client[\"mini_project\"]\n",
    "mongo_col = mongo_db[\"main\"]\n",
    "\n",
    "print(\"mongo query 1:\", timeit(mongo_query_1, number=5000))\n",
    "print(\"mongo query 2:\", timeit(mongo_query_2, number=5000))\n",
    "print(\"mongo query 3:\", timeit(mongo_query_3, number=5000))"
   ]
  }
 ],
 "metadata": {
  "language_info": {
   "codemirror_mode": {
    "name": "ipython",
    "version": 3
   },
   "file_extension": ".py",
   "mimetype": "text/x-python",
   "name": "python",
   "nbconvert_exporter": "python",
   "pygments_lexer": "ipython3",
   "version": "3.7.4-final"
  },
  "orig_nbformat": 2,
  "kernelspec": {
   "name": "python3",
   "display_name": "Python 3"
  }
 },
 "nbformat": 4,
 "nbformat_minor": 2
}